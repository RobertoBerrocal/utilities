{
 "cells": [
  {
   "cell_type": "code",
   "execution_count": 2,
   "metadata": {},
   "outputs": [],
   "source": [
    "import pandas as pd"
   ]
  },
  {
   "cell_type": "code",
   "execution_count": 3,
   "metadata": {},
   "outputs": [],
   "source": [
    "def csv_to_sql_insert(input_csv, table_name, output_file):\n",
    "    \"\"\"\n",
    "    Converts a CSV file into SQL INSERT statements and saves the result to a file.\n",
    "\n",
    "    Parameters:\n",
    "        input_csv (str): Path to the input CSV file.\n",
    "        table_name (str): Name of the SQL table for the INSERT statements.\n",
    "        output_file (str): Path to the output file where SQL statements will be saved.\n",
    "\n",
    "    Returns:\n",
    "        None: Saves the SQL INSERT statements to the output file.\n",
    "    \"\"\"\n",
    "    # Read the CSV file into a pandas DataFrame\n",
    "    df = pd.read_csv(input_csv)\n",
    "    \n",
    "    # Open the output file for writing\n",
    "    with open(output_file, 'w') as file:\n",
    "        # Write the INSERT header\n",
    "        columns = \", \".join(df.columns)\n",
    "        file.write(f\"INSERT INTO {table_name} ({columns}) VALUES\\n\")\n",
    "        \n",
    "        # Build SQL tuples for each row\n",
    "        rows = []\n",
    "        for _, row in df.iterrows():\n",
    "            # Format each value in the row\n",
    "            values = []\n",
    "            for value in row:\n",
    "                # Handle strings and escape single quotes\n",
    "                if isinstance(value, str):\n",
    "                    values.append(f\"'{value.replace(\"'\", \"''\")}'\")\n",
    "                # Handle null values\n",
    "                elif pd.isnull(value):\n",
    "                    values.append(\"NULL\")\n",
    "                # Handle datetime values\n",
    "                elif isinstance(value, pd.Timestamp):\n",
    "                    values.append(f\"'{value.strftime('%Y-%m-%d %H:%M:%S')}'\")\n",
    "                # Handle numbers (int or float)\n",
    "                elif isinstance(value, (int, float)):\n",
    "                    values.append(str(value))\n",
    "                # Handle any other types by converting them to strings\n",
    "                else:\n",
    "                    values.append(f\"'{str(value).replace('\\'', '\\'\\'')}'\")\n",
    "            # Create a SQL tuple for the current row\n",
    "            rows.append(f\"({', '.join(values)})\")\n",
    "        \n",
    "        # Write all rows to the file, separated by commas, and close with a semicolon\n",
    "        file.write(\",\\n\".join(rows) + \";\")\n",
    "    \n",
    "    print(f\"The file '{output_file}' has been successfully generated with SQL commands.\")"
   ]
  },
  {
   "cell_type": "code",
   "execution_count": 4,
   "metadata": {},
   "outputs": [
    {
     "name": "stdout",
     "output_type": "stream",
     "text": [
      "The file 'inser_values_users.sql' has been successfully generated with SQL commands.\n"
     ]
    }
   ],
   "source": [
    "# Exmaple usage\n",
    "input_csv = 'input.csv'\n",
    "table_name = 'users'\n",
    "output_file = 'inser_values_users.sql'\n",
    "\n",
    "csv_to_sql_insert(input_csv, table_name, output_file)"
   ]
  }
 ],
 "metadata": {
  "kernelspec": {
   "display_name": "base",
   "language": "python",
   "name": "python3"
  },
  "language_info": {
   "codemirror_mode": {
    "name": "ipython",
    "version": 3
   },
   "file_extension": ".py",
   "mimetype": "text/x-python",
   "name": "python",
   "nbconvert_exporter": "python",
   "pygments_lexer": "ipython3",
   "version": "3.12.7"
  },
  "orig_nbformat": 4
 },
 "nbformat": 4,
 "nbformat_minor": 2
}
