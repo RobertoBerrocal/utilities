{
 "cells": [
  {
   "cell_type": "code",
   "execution_count": null,
   "metadata": {},
   "outputs": [],
   "source": [
    "import pandas as pd\n",
    "import os\n",
    "from tqdm import tqdm"
   ]
  },
  {
   "cell_type": "code",
   "execution_count": null,
   "metadata": {},
   "outputs": [],
   "source": [
    "def split_excel_by_parts(file_name, num_parts):\n",
    "    \"\"\"\n",
    "    Splits a large Excel file into a specified number of smaller files.\n",
    "\n",
    "    Parameters:\n",
    "        file_name (str): The path to the original Excel file.\n",
    "        num_parts (int): The number of smaller files to create.\n",
    "\n",
    "    Returns:\n",
    "        None\n",
    "    \"\"\"\n",
    "    try:\n",
    "        # Read the Excel file\n",
    "        df = pd.read_excel(file_name)\n",
    "    except FileNotFoundError as e:\n",
    "        print(f\"File not found: {e}\")\n",
    "        return\n",
    "\n",
    "    # Calculate the number of rows per file\n",
    "    rows_per_file = len(df) // num_parts + (1 if len(df) % num_parts > 0 else 0)\n",
    "    \n",
    "    # Extract the base name and extension of the file\n",
    "    base_name, extension = os.path.splitext(file_name)\n",
    "    \n",
    "    # Split and save the files with a progress bar\n",
    "    print(f\"Splitting into {num_parts} files...\")\n",
    "    for i in tqdm(range(num_parts), desc=\"Splitting Excel\"):\n",
    "        start_idx = i * rows_per_file\n",
    "        end_idx = min(start_idx + rows_per_file, len(df))\n",
    "        \n",
    "        temp_df = df.iloc[start_idx:end_idx]\n",
    "        new_file_name = f\"{base_name}_part_{i+1}.xlsx\"\n",
    "        temp_df.to_excel(new_file_name, index=False)\n",
    "    \n",
    "    print(\"Excel split completed!\")"
   ]
  }
 ],
 "metadata": {
  "kernelspec": {
   "display_name": "nlp_env",
   "language": "python",
   "name": "python3"
  },
  "language_info": {
   "name": "python",
   "version": "3.12.7"
  }
 },
 "nbformat": 4,
 "nbformat_minor": 2
}
