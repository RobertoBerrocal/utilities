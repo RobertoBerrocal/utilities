{
 "cells": [
  {
   "cell_type": "code",
   "execution_count": 1,
   "metadata": {},
   "outputs": [],
   "source": [
    "def csv_to_sql_list(input_file, is_number=False):\n",
    "    \"\"\"\n",
    "    Converts the rows of a text or CSV file into a SQL-compatible list format and saves the result\n",
    "    to a file named as the input file with \"_sql_list\" appended to its name.\n",
    "\n",
    "    Parameters:\n",
    "        input_file (str): Path to the input text or CSV file.\n",
    "        is_number (bool): Whether the rows contain numeric values (default: False).\n",
    "\n",
    "    Returns:\n",
    "        None: Saves the SQL-compatible list to the output file.\n",
    "    \"\"\"\n",
    "    # Generate the output file name\n",
    "    output_file = f\"{input_file.split('.')[0]}_sql_list.txt\"\n",
    "\n",
    "    # Read the input file\n",
    "    with open(input_file, \"r\") as file:\n",
    "        rows = file.read().splitlines()  # Read lines and remove newline characters\n",
    "\n",
    "    # Format the rows into a SQL list\n",
    "    if is_number:\n",
    "        sql_list = tuple(map(int, rows))  # Convert rows to integers\n",
    "    else:\n",
    "        sql_list = tuple(f'{row}' for row in rows)  # Keep rows as strings with single quotes\n",
    "\n",
    "    # Convert the tuple to a string suitable for SQL\n",
    "    sql_list_str = str(sql_list)\n",
    "\n",
    "    # Save the SQL list to the output file\n",
    "    with open(output_file, \"w\") as file:\n",
    "        file.write(sql_list_str)\n",
    "\n",
    "    print(f\"SQL list saved to {output_file}:\")\n",
    "    print(\"\")\n",
    "    print(sql_list_str)"
   ]
  },
  {
   "cell_type": "code",
   "execution_count": 2,
   "metadata": {},
   "outputs": [
    {
     "name": "stdout",
     "output_type": "stream",
     "text": [
      "SQL list saved to input_text_sql_list.txt:\n",
      "\n",
      "(11111, 22222, 33333, 44444, 55555, 66666)\n"
     ]
    }
   ],
   "source": [
    "# test the function with a text file with numbers\n",
    "csv_to_sql_list(input_file='input_text.txt', is_number=True)"
   ]
  },
  {
   "cell_type": "code",
   "execution_count": 3,
   "metadata": {},
   "outputs": [
    {
     "name": "stdout",
     "output_type": "stream",
     "text": [
      "SQL list saved to input_text_sql_list.txt:\n",
      "\n",
      "('11111', '22222', '33333', '44444', '55555', '66666')\n"
     ]
    }
   ],
   "source": [
    "# test the function with a text file with strings\n",
    "csv_to_sql_list(input_file='input_text.txt', is_number=False)"
   ]
  }
 ],
 "metadata": {
  "kernelspec": {
   "display_name": "base",
   "language": "python",
   "name": "python3"
  },
  "language_info": {
   "codemirror_mode": {
    "name": "ipython",
    "version": 3
   },
   "file_extension": ".py",
   "mimetype": "text/x-python",
   "name": "python",
   "nbconvert_exporter": "python",
   "pygments_lexer": "ipython3",
   "version": "3.12.7"
  },
  "orig_nbformat": 4
 },
 "nbformat": 4,
 "nbformat_minor": 2
}
