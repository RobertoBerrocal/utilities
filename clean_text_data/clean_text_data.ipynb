{
 "cells": [
  {
   "cell_type": "code",
   "execution_count": 1,
   "metadata": {},
   "outputs": [],
   "source": [
    "import pandas as pd\n",
    "import re\n",
    "import unicodedata"
   ]
  },
  {
   "cell_type": "code",
   "execution_count": 2,
   "metadata": {},
   "outputs": [],
   "source": [
    "def clean_text(text):\n",
    "    \"\"\"\n",
    "    Cleans a given text by:\n",
    "    - Removing leading/trailing spaces\n",
    "    - Removing all whitespace characters (spaces, tabs, newlines)\n",
    "    - Converting to lowercase\n",
    "    - Normalizing (removing accents/diacritics)\n",
    "    - Removing unwanted characters while keeping specified special characters (e.g., #, $, @)\n",
    "\n",
    "    Parameters:\n",
    "        text (str): The input text to clean.\n",
    "\n",
    "    Returns:\n",
    "        str: The cleaned text.\n",
    "    \"\"\"\n",
    "    if not isinstance(text, str):\n",
    "        return text  # Return original value if not a string\n",
    "\n",
    "    # Remove leading/trailing whitespace\n",
    "    text = text.strip()\n",
    "    \n",
    "    # Replace all types of whitespace (spaces, tabs, newlines) with a single space\n",
    "    text = re.sub(r'\\s+', ' ', text)\n",
    "    \n",
    "    # Convert to lowercase\n",
    "    text = text.lower()\n",
    "    \n",
    "    # Normalize and remove accents/diacritics\n",
    "    text = ''.join(c for c in unicodedata.normalize('NFD', text) if unicodedata.category(c) != 'Mn')\n",
    "    \n",
    "    # Define the allowed special characters\n",
    "    allowed_special_chars = \"#@$.\"  # Add or remove characters here as needed\n",
    "    \n",
    "    # Remove all characters except letters, numbers, spaces, and allowed special characters\n",
    "    pattern = rf'[^a-z0-9áéíóúüñ {allowed_special_chars}]'\n",
    "    text = re.sub(pattern, '', text)\n",
    "    \n",
    "    return text"
   ]
  },
  {
   "cell_type": "code",
   "execution_count": 3,
   "metadata": {},
   "outputs": [],
   "source": [
    "def clean_text_column(df, column_name):\n",
    "    \"\"\"\n",
    "    Cleans the text of a specific column in a DataFrame.\n",
    "\n",
    "    Parameters:\n",
    "        df (pd.DataFrame): The input DataFrame.\n",
    "        column_name (str): The column to clean.\n",
    "\n",
    "    Returns:\n",
    "        pd.Series: The cleaned column as a pandas Series.\n",
    "    \"\"\"\n",
    "    if column_name not in df.columns:\n",
    "        raise ValueError(f\"The column '{column_name}' does not exist in the DataFrame.\")\n",
    "    \n",
    "    # Apply the clean_text function to the specified column \n",
    "    return df[column_name].apply(clean_text)"
   ]
  },
  {
   "cell_type": "code",
   "execution_count": 4,
   "metadata": {},
   "outputs": [
    {
     "data": {
      "text/plain": [
       "'hola soy roberto. como estas mi email es robberrocal@gmail.com'"
      ]
     },
     "execution_count": 4,
     "metadata": {},
     "output_type": "execute_result"
    }
   ],
   "source": [
    "text = \"¡Hola!  Soy   Roberto. \\t ¿Cómo estás? Mi email es robberrocal@gmail.com\"\n",
    "\n",
    "clean_text(text)"
   ]
  }
 ],
 "metadata": {
  "kernelspec": {
   "display_name": "base",
   "language": "python",
   "name": "python3"
  },
  "language_info": {
   "codemirror_mode": {
    "name": "ipython",
    "version": 3
   },
   "file_extension": ".py",
   "mimetype": "text/x-python",
   "name": "python",
   "nbconvert_exporter": "python",
   "pygments_lexer": "ipython3",
   "version": "3.12.7"
  }
 },
 "nbformat": 4,
 "nbformat_minor": 2
}
