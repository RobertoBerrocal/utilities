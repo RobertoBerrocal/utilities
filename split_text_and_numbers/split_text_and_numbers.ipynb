{
 "cells": [
  {
   "cell_type": "code",
   "execution_count": 1,
   "metadata": {},
   "outputs": [],
   "source": [
    "import pandas as pd\n",
    "import re"
   ]
  },
  {
   "cell_type": "code",
   "execution_count": 2,
   "metadata": {},
   "outputs": [],
   "source": [
    "def split_text_and_number(text):\n",
    "    \"\"\"\n",
    "    Splits a given text into numeric and textual parts.\n",
    "\n",
    "    Parameters:\n",
    "        text (str): The input string to process.\n",
    "\n",
    "    Returns:\n",
    "        tuple: A tuple with (numeric_part, text_part).\n",
    "               numeric_part (float): The numeric part of the string or 0 if not found.\n",
    "               text_part (str): The textual part of the string or an empty string.\n",
    "    \"\"\"\n",
    "    if not isinstance(text, str):\n",
    "        return (0, '')  # Return default values if the input is not a string\n",
    "\n",
    "    # Remove spaces and normalize the text\n",
    "    text = text.strip().lower()\n",
    "\n",
    "    # Extract the numeric part\n",
    "    numeric_match = re.search(r'\\d+\\.?\\d*', text)  # Matches integers or decimals\n",
    "    numeric_part = float(numeric_match.group()) if numeric_match else 0\n",
    "\n",
    "    # Extract the text part (everything except the numbers) and clean trailing symbols\n",
    "    text_part = re.sub(r'\\d+\\.?\\d*', '', text).strip()  # Remove numbers\n",
    "    text_part = re.sub(r'[^\\w\\s]', '', text_part)  # Remove punctuation (e.g., '.', ',')\n",
    "\n",
    "    return numeric_part, text_part"
   ]
  },
  {
   "cell_type": "code",
   "execution_count": 3,
   "metadata": {},
   "outputs": [],
   "source": [
    "def split_column_into_numeric_and_text(df, column_name):\n",
    "    \"\"\"\n",
    "    Splits a column into numeric and textual parts, creating two new columns.\n",
    "\n",
    "    Parameters:\n",
    "        df (pd.DataFrame): The input DataFrame.\n",
    "        column_name (str): The name of the column to process.\n",
    "\n",
    "    Returns:\n",
    "        pd.DataFrame: A DataFrame with two new columns:\n",
    "                      - \"{column_name}_numeric\" for the numeric part\n",
    "                      - \"{column_name}_text\" for the textual part\n",
    "    \"\"\"\n",
    "    if column_name not in df.columns:\n",
    "        raise ValueError(f\"The column '{column_name}' does not exist in the DataFrame.\")\n",
    "    \n",
    "    # Apply the split_text_and_number function to the column\n",
    "    results = df[column_name].apply(split_text_and_number)\n",
    "    \n",
    "    # Create two new columns\n",
    "    df[f\"{column_name}_numeric\"] = results.apply(lambda x: x[0])  # Numeric part\n",
    "    df[f\"{column_name}_text\"] = results.apply(lambda x: x[1])  # Textual part\n",
    "\n",
    "    return df"
   ]
  },
  {
   "cell_type": "code",
   "execution_count": 4,
   "metadata": {},
   "outputs": [
    {
     "name": "stdout",
     "output_type": "stream",
     "text": [
      "(500.0, 'ml')\n",
      "(1000.5, 'kg')\n",
      "(0, 'no number here')\n",
      "(0, '')\n"
     ]
    }
   ],
   "source": [
    "# Examples\n",
    "print(split_text_and_number(\"500 ml\"))\n",
    "print(split_text_and_number(\"1000.5kg.\"))\n",
    "print(split_text_and_number(\"No number here\"))\n",
    "print(split_text_and_number(None))"
   ]
  }
 ],
 "metadata": {
  "kernelspec": {
   "display_name": "base",
   "language": "python",
   "name": "python3"
  },
  "language_info": {
   "codemirror_mode": {
    "name": "ipython",
    "version": 3
   },
   "file_extension": ".py",
   "mimetype": "text/x-python",
   "name": "python",
   "nbconvert_exporter": "python",
   "pygments_lexer": "ipython3",
   "version": "3.12.7"
  }
 },
 "nbformat": 4,
 "nbformat_minor": 2
}
