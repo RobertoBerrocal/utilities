{
 "cells": [
  {
   "cell_type": "code",
   "execution_count": 1,
   "metadata": {},
   "outputs": [],
   "source": [
    "import pandas as pd\n",
    "import os\n",
    "from tqdm import tqdm"
   ]
  },
  {
   "cell_type": "code",
   "execution_count": 2,
   "metadata": {},
   "outputs": [],
   "source": [
    "def split_csv_by_parts(file_name, num_parts, encoding='utf-8'):\n",
    "    \"\"\"\n",
    "    Splits a large CSV file into a specified number of smaller files.\n",
    "\n",
    "    Parameters:\n",
    "        file_name (str): The path to the original CSV file.\n",
    "        num_parts (int): The number of smaller files to create.\n",
    "        encoding (str): The encoding of the CSV file. Default is 'utf-8'.\n",
    "\n",
    "    Returns:\n",
    "        None\n",
    "    \"\"\"\n",
    "    try:\n",
    "        # Read the CSV file\n",
    "        df = pd.read_csv(file_name, encoding=encoding)\n",
    "    except UnicodeDecodeError as e:\n",
    "        print(f\"Encoding error while reading the file: {e}\")\n",
    "        return\n",
    "    except FileNotFoundError as e:\n",
    "        print(f\"File not found: {e}\")\n",
    "        return\n",
    "\n",
    "    # Calculate the number of rows per file\n",
    "    rows_per_file = len(df) // num_parts + (1 if len(df) % num_parts > 0 else 0)\n",
    "    \n",
    "    # Extract the base name and extension of the file\n",
    "    base_name, extension = os.path.splitext(file_name)\n",
    "    \n",
    "    # Split and save the files with a progress bar\n",
    "    print(f\"Splitting into {num_parts} files...\")\n",
    "    for i in tqdm(range(num_parts), desc=\"Splitting CSV\"):\n",
    "        start_idx = i * rows_per_file\n",
    "        end_idx = min(start_idx + rows_per_file, len(df))\n",
    "        \n",
    "        temp_df = df.iloc[start_idx:end_idx]\n",
    "        new_file_name = f\"{base_name}_part_{i+1}{extension}\"\n",
    "        temp_df.to_csv(new_file_name, index=False, encoding=encoding)\n",
    "    \n",
    "    print(\"CSV split completed!\")"
   ]
  },
  {
   "cell_type": "code",
   "execution_count": 3,
   "metadata": {},
   "outputs": [
    {
     "name": "stdout",
     "output_type": "stream",
     "text": [
      "Splitting into 5 files...\n"
     ]
    },
    {
     "name": "stderr",
     "output_type": "stream",
     "text": [
      "Splitting CSV: 100%|██████████| 5/5 [00:00<00:00, 448.99it/s]"
     ]
    },
    {
     "name": "stdout",
     "output_type": "stream",
     "text": [
      "CSV split completed!\n"
     ]
    },
    {
     "name": "stderr",
     "output_type": "stream",
     "text": [
      "\n"
     ]
    }
   ],
   "source": [
    "# Example\n",
    "split_csv_by_parts('./kidney_disease.csv', 5, encoding='utf-8')"
   ]
  }
 ],
 "metadata": {
  "kernelspec": {
   "display_name": "base",
   "language": "python",
   "name": "python3"
  },
  "language_info": {
   "codemirror_mode": {
    "name": "ipython",
    "version": 3
   },
   "file_extension": ".py",
   "mimetype": "text/x-python",
   "name": "python",
   "nbconvert_exporter": "python",
   "pygments_lexer": "ipython3",
   "version": "3.12.7"
  }
 },
 "nbformat": 4,
 "nbformat_minor": 2
}
